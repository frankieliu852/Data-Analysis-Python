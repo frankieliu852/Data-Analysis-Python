{
 "cells": [
  {
   "cell_type": "code",
   "execution_count": 7,
   "metadata": {},
   "outputs": [
    {
     "data": {
      "text/html": [
       "<div>\n",
       "<style scoped>\n",
       "    .dataframe tbody tr th:only-of-type {\n",
       "        vertical-align: middle;\n",
       "    }\n",
       "\n",
       "    .dataframe tbody tr th {\n",
       "        vertical-align: top;\n",
       "    }\n",
       "\n",
       "    .dataframe thead th {\n",
       "        text-align: right;\n",
       "    }\n",
       "</style>\n",
       "<table border=\"1\" class=\"dataframe\">\n",
       "  <thead>\n",
       "    <tr style=\"text-align: right;\">\n",
       "      <th></th>\n",
       "      <th>A</th>\n",
       "      <th>B</th>\n",
       "      <th>C</th>\n",
       "      <th>D</th>\n",
       "      <th>E</th>\n",
       "    </tr>\n",
       "  </thead>\n",
       "  <tbody>\n",
       "    <tr>\n",
       "      <th>0</th>\n",
       "      <td>0.302398</td>\n",
       "      <td>0.880292</td>\n",
       "      <td>0.071525</td>\n",
       "      <td>0.859207</td>\n",
       "      <td>0.087763</td>\n",
       "    </tr>\n",
       "    <tr>\n",
       "      <th>1</th>\n",
       "      <td>0.499797</td>\n",
       "      <td>0.507252</td>\n",
       "      <td>0.731780</td>\n",
       "      <td>0.563556</td>\n",
       "      <td>0.430655</td>\n",
       "    </tr>\n",
       "    <tr>\n",
       "      <th>2</th>\n",
       "      <td>0.918892</td>\n",
       "      <td>0.035887</td>\n",
       "      <td>0.877859</td>\n",
       "      <td>0.566300</td>\n",
       "      <td>0.687887</td>\n",
       "    </tr>\n",
       "    <tr>\n",
       "      <th>3</th>\n",
       "      <td>0.207706</td>\n",
       "      <td>0.677389</td>\n",
       "      <td>0.317179</td>\n",
       "      <td>0.938842</td>\n",
       "      <td>0.891576</td>\n",
       "    </tr>\n",
       "  </tbody>\n",
       "</table>\n",
       "</div>"
      ],
      "text/plain": [
       "          A         B         C         D         E\n",
       "0  0.302398  0.880292  0.071525  0.859207  0.087763\n",
       "1  0.499797  0.507252  0.731780  0.563556  0.430655\n",
       "2  0.918892  0.035887  0.877859  0.566300  0.687887\n",
       "3  0.207706  0.677389  0.317179  0.938842  0.891576"
      ]
     },
     "execution_count": 7,
     "metadata": {},
     "output_type": "execute_result"
    }
   ],
   "source": [
    "import pandas as pd\n",
    "import numpy as np\n",
    "\n",
    "df = pd.DataFrame(np.random.rand(4,5), columns=['A','B','C','D','E'])\n",
    "df"
   ]
  },
  {
   "cell_type": "code",
   "execution_count": 5,
   "metadata": {},
   "outputs": [],
   "source": [
    "# Write to CSV\n",
    "\n",
    "df.to_csv('df1.txt') # df1.txt is the file name"
   ]
  },
  {
   "cell_type": "code",
   "execution_count": 10,
   "metadata": {},
   "outputs": [
    {
     "data": {
      "text/html": [
       "<div>\n",
       "<style scoped>\n",
       "    .dataframe tbody tr th:only-of-type {\n",
       "        vertical-align: middle;\n",
       "    }\n",
       "\n",
       "    .dataframe tbody tr th {\n",
       "        vertical-align: top;\n",
       "    }\n",
       "\n",
       "    .dataframe thead th {\n",
       "        text-align: right;\n",
       "    }\n",
       "</style>\n",
       "<table border=\"1\" class=\"dataframe\">\n",
       "  <thead>\n",
       "    <tr style=\"text-align: right;\">\n",
       "      <th></th>\n",
       "      <th>Unnamed: 0</th>\n",
       "      <th>A</th>\n",
       "      <th>B</th>\n",
       "      <th>C</th>\n",
       "      <th>D</th>\n",
       "      <th>E</th>\n",
       "    </tr>\n",
       "  </thead>\n",
       "  <tbody>\n",
       "    <tr>\n",
       "      <th>0</th>\n",
       "      <td>0</td>\n",
       "      <td>0.473256</td>\n",
       "      <td>0.327580</td>\n",
       "      <td>0.777677</td>\n",
       "      <td>0.172808</td>\n",
       "      <td>0.098880</td>\n",
       "    </tr>\n",
       "    <tr>\n",
       "      <th>1</th>\n",
       "      <td>1</td>\n",
       "      <td>0.133450</td>\n",
       "      <td>0.142972</td>\n",
       "      <td>0.059889</td>\n",
       "      <td>0.962379</td>\n",
       "      <td>0.089141</td>\n",
       "    </tr>\n",
       "    <tr>\n",
       "      <th>2</th>\n",
       "      <td>2</td>\n",
       "      <td>0.550851</td>\n",
       "      <td>0.255392</td>\n",
       "      <td>0.211338</td>\n",
       "      <td>0.526639</td>\n",
       "      <td>0.004095</td>\n",
       "    </tr>\n",
       "    <tr>\n",
       "      <th>3</th>\n",
       "      <td>3</td>\n",
       "      <td>0.862999</td>\n",
       "      <td>0.651356</td>\n",
       "      <td>0.097609</td>\n",
       "      <td>0.654091</td>\n",
       "      <td>0.611352</td>\n",
       "    </tr>\n",
       "  </tbody>\n",
       "</table>\n",
       "</div>"
      ],
      "text/plain": [
       "   Unnamed: 0         A         B         C         D         E\n",
       "0           0  0.473256  0.327580  0.777677  0.172808  0.098880\n",
       "1           1  0.133450  0.142972  0.059889  0.962379  0.089141\n",
       "2           2  0.550851  0.255392  0.211338  0.526639  0.004095\n",
       "3           3  0.862999  0.651356  0.097609  0.654091  0.611352"
      ]
     },
     "execution_count": 10,
     "metadata": {},
     "output_type": "execute_result"
    }
   ],
   "source": [
    "df2 =pd.read_csv('df1.txt')\n",
    "df2"
   ]
  },
  {
   "cell_type": "code",
   "execution_count": 11,
   "metadata": {},
   "outputs": [
    {
     "data": {
      "text/html": [
       "<div>\n",
       "<style scoped>\n",
       "    .dataframe tbody tr th:only-of-type {\n",
       "        vertical-align: middle;\n",
       "    }\n",
       "\n",
       "    .dataframe tbody tr th {\n",
       "        vertical-align: top;\n",
       "    }\n",
       "\n",
       "    .dataframe thead th {\n",
       "        text-align: right;\n",
       "    }\n",
       "</style>\n",
       "<table border=\"1\" class=\"dataframe\">\n",
       "  <thead>\n",
       "    <tr style=\"text-align: right;\">\n",
       "      <th></th>\n",
       "      <th>A</th>\n",
       "      <th>B</th>\n",
       "      <th>C</th>\n",
       "      <th>D</th>\n",
       "      <th>E</th>\n",
       "    </tr>\n",
       "  </thead>\n",
       "  <tbody>\n",
       "    <tr>\n",
       "      <th>0</th>\n",
       "      <td>0.473256</td>\n",
       "      <td>0.327580</td>\n",
       "      <td>0.777677</td>\n",
       "      <td>0.172808</td>\n",
       "      <td>0.098880</td>\n",
       "    </tr>\n",
       "    <tr>\n",
       "      <th>1</th>\n",
       "      <td>0.133450</td>\n",
       "      <td>0.142972</td>\n",
       "      <td>0.059889</td>\n",
       "      <td>0.962379</td>\n",
       "      <td>0.089141</td>\n",
       "    </tr>\n",
       "    <tr>\n",
       "      <th>2</th>\n",
       "      <td>0.550851</td>\n",
       "      <td>0.255392</td>\n",
       "      <td>0.211338</td>\n",
       "      <td>0.526639</td>\n",
       "      <td>0.004095</td>\n",
       "    </tr>\n",
       "    <tr>\n",
       "      <th>3</th>\n",
       "      <td>0.862999</td>\n",
       "      <td>0.651356</td>\n",
       "      <td>0.097609</td>\n",
       "      <td>0.654091</td>\n",
       "      <td>0.611352</td>\n",
       "    </tr>\n",
       "  </tbody>\n",
       "</table>\n",
       "</div>"
      ],
      "text/plain": [
       "          A         B         C         D         E\n",
       "0  0.473256  0.327580  0.777677  0.172808  0.098880\n",
       "1  0.133450  0.142972  0.059889  0.962379  0.089141\n",
       "2  0.550851  0.255392  0.211338  0.526639  0.004095\n",
       "3  0.862999  0.651356  0.097609  0.654091  0.611352"
      ]
     },
     "execution_count": 11,
     "metadata": {},
     "output_type": "execute_result"
    }
   ],
   "source": [
    "# use index_col=0 to eliminate the unnamed column\n",
    "# use index column 0 as index column\n",
    "# this works even with index column name\n",
    "\n",
    "df2 = pd.read_csv('df1.txt', index_col=0)\n",
    "df2"
   ]
  },
  {
   "cell_type": "code",
   "execution_count": 24,
   "metadata": {},
   "outputs": [],
   "source": [
    "df.to_csv('df3.txt', header=None)"
   ]
  },
  {
   "cell_type": "code",
   "execution_count": 25,
   "metadata": {},
   "outputs": [
    {
     "data": {
      "text/plain": [
       "(         AA        BB        CC        DD        EE\n",
       " 0  0.302398  0.880292  0.071525  0.859207  0.087763\n",
       " 1  0.499797  0.507252  0.731780  0.563556  0.430655\n",
       " 2  0.918892  0.035887  0.877859  0.566300  0.687887\n",
       " 3  0.207706  0.677389  0.317179  0.938842  0.891576,)"
      ]
     },
     "execution_count": 25,
     "metadata": {},
     "output_type": "execute_result"
    }
   ],
   "source": [
    "df3 = pd.read_csv('df3.txt', header=None, index_col=0, names=['AA','BB','CC','DD','EE']),\n",
    "df3"
   ]
  },
  {
   "cell_type": "code",
   "execution_count": null,
   "metadata": {},
   "outputs": [],
   "source": []
  }
 ],
 "metadata": {
  "kernelspec": {
   "display_name": "Python 3",
   "language": "python",
   "name": "python3"
  },
  "language_info": {
   "codemirror_mode": {
    "name": "ipython",
    "version": 3
   },
   "file_extension": ".py",
   "mimetype": "text/x-python",
   "name": "python",
   "nbconvert_exporter": "python",
   "pygments_lexer": "ipython3",
   "version": "3.6.5"
  }
 },
 "nbformat": 4,
 "nbformat_minor": 2
}
