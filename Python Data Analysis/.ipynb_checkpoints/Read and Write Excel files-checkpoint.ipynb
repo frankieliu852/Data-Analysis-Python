{
 "cells": [
  {
   "cell_type": "markdown",
   "metadata": {},
   "source": [
    "# read Excel file into data frame\n",
    "\n",
    "***read in the first sheet of the file***\n",
    "import pandas as pd\n",
    "df = pd.read_excel('filename.xls')\n",
    "\n",
    "***read in by specific sheet ******\n",
    "df = pd.read_excel('filename.xls', sheet_name='sheet name')"
   ]
  },
  {
   "cell_type": "code",
   "execution_count": 3,
   "metadata": {},
   "outputs": [
    {
     "data": {
      "text/html": [
       "<div>\n",
       "<style scoped>\n",
       "    .dataframe tbody tr th:only-of-type {\n",
       "        vertical-align: middle;\n",
       "    }\n",
       "\n",
       "    .dataframe tbody tr th {\n",
       "        vertical-align: top;\n",
       "    }\n",
       "\n",
       "    .dataframe thead th {\n",
       "        text-align: right;\n",
       "    }\n",
       "</style>\n",
       "<table border=\"1\" class=\"dataframe\">\n",
       "  <thead>\n",
       "    <tr style=\"text-align: right;\">\n",
       "      <th></th>\n",
       "      <th>0</th>\n",
       "      <th>1</th>\n",
       "      <th>2</th>\n",
       "      <th>3</th>\n",
       "    </tr>\n",
       "  </thead>\n",
       "  <tbody>\n",
       "    <tr>\n",
       "      <th>0</th>\n",
       "      <td>0.224678</td>\n",
       "      <td>0.362019</td>\n",
       "      <td>0.599049</td>\n",
       "      <td>0.865377</td>\n",
       "    </tr>\n",
       "    <tr>\n",
       "      <th>1</th>\n",
       "      <td>0.005840</td>\n",
       "      <td>0.981726</td>\n",
       "      <td>0.047551</td>\n",
       "      <td>0.273109</td>\n",
       "    </tr>\n",
       "    <tr>\n",
       "      <th>2</th>\n",
       "      <td>0.431016</td>\n",
       "      <td>0.727432</td>\n",
       "      <td>0.174908</td>\n",
       "      <td>0.178065</td>\n",
       "    </tr>\n",
       "  </tbody>\n",
       "</table>\n",
       "</div>"
      ],
      "text/plain": [
       "          0         1         2         3\n",
       "0  0.224678  0.362019  0.599049  0.865377\n",
       "1  0.005840  0.981726  0.047551  0.273109\n",
       "2  0.431016  0.727432  0.174908  0.178065"
      ]
     },
     "execution_count": 3,
     "metadata": {},
     "output_type": "execute_result"
    }
   ],
   "source": [
    "# Writing to Excel file\n",
    "\n",
    "### generate random data frame and asign it to \"df\"\n",
    "import pandas as pd\n",
    "import numpy as np\n",
    "df = pd.DataFrame(np.random.rand(3,4))\n",
    "df"
   ]
  },
  {
   "cell_type": "code",
   "execution_count": 4,
   "metadata": {},
   "outputs": [],
   "source": [
    "#writing \"df\" to Excel, using \".to_excel('filename.xls')\"\n",
    "\n",
    "df.to_excel('ex2a.xls')\n",
    "\n",
    "# index column and column names are also written into Excel file"
   ]
  },
  {
   "cell_type": "code",
   "execution_count": 5,
   "metadata": {},
   "outputs": [],
   "source": [
    "# Suppress index column and column names by adding (index=False, header=False)\n",
    "df.to_excel('ex2b.xls', index=False, header=False)"
   ]
  },
  {
   "cell_type": "markdown",
   "metadata": {},
   "source": [
    "# Writing multiple data frames into same file but different sheet"
   ]
  },
  {
   "cell_type": "code",
   "execution_count": 6,
   "metadata": {},
   "outputs": [],
   "source": [
    "df1 = pd.DataFrame(np.random.rand(3,4))\n",
    "df2 = pd.DataFrame(np.random.rand(3,4))"
   ]
  },
  {
   "cell_type": "code",
   "execution_count": 8,
   "metadata": {},
   "outputs": [],
   "source": [
    "## We have to create a writer object by calling pd.ExcelWriter('filename.xls')\n",
    "writer = pd.ExcelWriter('ex3.xls')\n",
    "## we then put writer object into the to_excel function\n",
    "## 'df1' and 'df2' in the function are the sheet names\n",
    "\n",
    "df1.to_excel(writer, 'df1', index=False, header=False)\n",
    "df2.to_excel(writer, 'df2', index=False, header=False)\n",
    "writer.save()"
   ]
  }
 ],
 "metadata": {
  "kernelspec": {
   "display_name": "Python 3",
   "language": "python",
   "name": "python3"
  },
  "language_info": {
   "codemirror_mode": {
    "name": "ipython",
    "version": 3
   },
   "file_extension": ".py",
   "mimetype": "text/x-python",
   "name": "python",
   "nbconvert_exporter": "python",
   "pygments_lexer": "ipython3",
   "version": "3.6.5"
  }
 },
 "nbformat": 4,
 "nbformat_minor": 2
}
