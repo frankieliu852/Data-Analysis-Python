{
 "cells": [
  {
   "cell_type": "code",
   "execution_count": 1,
   "metadata": {},
   "outputs": [
    {
     "data": {
      "text/html": [
       "<div>\n",
       "<style scoped>\n",
       "    .dataframe tbody tr th:only-of-type {\n",
       "        vertical-align: middle;\n",
       "    }\n",
       "\n",
       "    .dataframe tbody tr th {\n",
       "        vertical-align: top;\n",
       "    }\n",
       "\n",
       "    .dataframe thead th {\n",
       "        text-align: right;\n",
       "    }\n",
       "</style>\n",
       "<table border=\"1\" class=\"dataframe\">\n",
       "  <thead>\n",
       "    <tr style=\"text-align: right;\">\n",
       "      <th></th>\n",
       "      <th>A</th>\n",
       "      <th>B</th>\n",
       "      <th>C</th>\n",
       "      <th>D</th>\n",
       "    </tr>\n",
       "  </thead>\n",
       "  <tbody>\n",
       "    <tr>\n",
       "      <th>0</th>\n",
       "      <td>0.362159</td>\n",
       "      <td>0.602144</td>\n",
       "      <td>0.490192</td>\n",
       "      <td>0.474406</td>\n",
       "    </tr>\n",
       "    <tr>\n",
       "      <th>1</th>\n",
       "      <td>0.939637</td>\n",
       "      <td>0.068236</td>\n",
       "      <td>0.658593</td>\n",
       "      <td>0.489001</td>\n",
       "    </tr>\n",
       "    <tr>\n",
       "      <th>2</th>\n",
       "      <td>0.136266</td>\n",
       "      <td>0.868668</td>\n",
       "      <td>0.192804</td>\n",
       "      <td>0.755644</td>\n",
       "    </tr>\n",
       "  </tbody>\n",
       "</table>\n",
       "</div>"
      ],
      "text/plain": [
       "          A         B         C         D\n",
       "0  0.362159  0.602144  0.490192  0.474406\n",
       "1  0.939637  0.068236  0.658593  0.489001\n",
       "2  0.136266  0.868668  0.192804  0.755644"
      ]
     },
     "execution_count": 1,
     "metadata": {},
     "output_type": "execute_result"
    }
   ],
   "source": [
    "#Writing to HDF5\n",
    "\n",
    "import pandas as pd\n",
    "import numpy as np\n",
    "\n",
    "df1 = pd.DataFrame(np.random.rand(3,4), columns=['A','B','C','D'])\n",
    "df2 = pd.DataFrame(np.random.rand(5,6), columns=['1','2','3','4','5','6'])\n",
    "\n",
    "df1"
   ]
  },
  {
   "cell_type": "code",
   "execution_count": 2,
   "metadata": {},
   "outputs": [
    {
     "data": {
      "text/html": [
       "<div>\n",
       "<style scoped>\n",
       "    .dataframe tbody tr th:only-of-type {\n",
       "        vertical-align: middle;\n",
       "    }\n",
       "\n",
       "    .dataframe tbody tr th {\n",
       "        vertical-align: top;\n",
       "    }\n",
       "\n",
       "    .dataframe thead th {\n",
       "        text-align: right;\n",
       "    }\n",
       "</style>\n",
       "<table border=\"1\" class=\"dataframe\">\n",
       "  <thead>\n",
       "    <tr style=\"text-align: right;\">\n",
       "      <th></th>\n",
       "      <th>1</th>\n",
       "      <th>2</th>\n",
       "      <th>3</th>\n",
       "      <th>4</th>\n",
       "      <th>5</th>\n",
       "      <th>6</th>\n",
       "    </tr>\n",
       "  </thead>\n",
       "  <tbody>\n",
       "    <tr>\n",
       "      <th>0</th>\n",
       "      <td>0.108725</td>\n",
       "      <td>0.782582</td>\n",
       "      <td>0.775853</td>\n",
       "      <td>0.466615</td>\n",
       "      <td>0.680157</td>\n",
       "      <td>0.742266</td>\n",
       "    </tr>\n",
       "    <tr>\n",
       "      <th>1</th>\n",
       "      <td>0.119477</td>\n",
       "      <td>0.847978</td>\n",
       "      <td>0.101267</td>\n",
       "      <td>0.131826</td>\n",
       "      <td>0.199512</td>\n",
       "      <td>0.835617</td>\n",
       "    </tr>\n",
       "    <tr>\n",
       "      <th>2</th>\n",
       "      <td>0.941857</td>\n",
       "      <td>0.303097</td>\n",
       "      <td>0.161327</td>\n",
       "      <td>0.545872</td>\n",
       "      <td>0.420005</td>\n",
       "      <td>0.717159</td>\n",
       "    </tr>\n",
       "    <tr>\n",
       "      <th>3</th>\n",
       "      <td>0.021562</td>\n",
       "      <td>0.899544</td>\n",
       "      <td>0.419672</td>\n",
       "      <td>0.352725</td>\n",
       "      <td>0.226784</td>\n",
       "      <td>0.651774</td>\n",
       "    </tr>\n",
       "    <tr>\n",
       "      <th>4</th>\n",
       "      <td>0.941228</td>\n",
       "      <td>0.012752</td>\n",
       "      <td>0.665128</td>\n",
       "      <td>0.830508</td>\n",
       "      <td>0.282801</td>\n",
       "      <td>0.562105</td>\n",
       "    </tr>\n",
       "  </tbody>\n",
       "</table>\n",
       "</div>"
      ],
      "text/plain": [
       "          1         2         3         4         5         6\n",
       "0  0.108725  0.782582  0.775853  0.466615  0.680157  0.742266\n",
       "1  0.119477  0.847978  0.101267  0.131826  0.199512  0.835617\n",
       "2  0.941857  0.303097  0.161327  0.545872  0.420005  0.717159\n",
       "3  0.021562  0.899544  0.419672  0.352725  0.226784  0.651774\n",
       "4  0.941228  0.012752  0.665128  0.830508  0.282801  0.562105"
      ]
     },
     "execution_count": 2,
     "metadata": {},
     "output_type": "execute_result"
    }
   ],
   "source": [
    "df2"
   ]
  },
  {
   "cell_type": "code",
   "execution_count": 5,
   "metadata": {},
   "outputs": [],
   "source": [
    "# write to HDF5 file, df1.to_hdf('filename.h5','df1')\n",
    "df1.to_hdf('ex1.h5','df1')\n",
    "df2.to_hdf('ex1.h5','df2')"
   ]
  },
  {
   "cell_type": "code",
   "execution_count": 6,
   "metadata": {},
   "outputs": [],
   "source": [
    "df1r = pd.read_hdf('ex1.h5','df1')\n",
    "df2r = pd.read_hdf('ex1.h5','df2')"
   ]
  },
  {
   "cell_type": "code",
   "execution_count": 7,
   "metadata": {},
   "outputs": [
    {
     "data": {
      "text/html": [
       "<div>\n",
       "<style scoped>\n",
       "    .dataframe tbody tr th:only-of-type {\n",
       "        vertical-align: middle;\n",
       "    }\n",
       "\n",
       "    .dataframe tbody tr th {\n",
       "        vertical-align: top;\n",
       "    }\n",
       "\n",
       "    .dataframe thead th {\n",
       "        text-align: right;\n",
       "    }\n",
       "</style>\n",
       "<table border=\"1\" class=\"dataframe\">\n",
       "  <thead>\n",
       "    <tr style=\"text-align: right;\">\n",
       "      <th></th>\n",
       "      <th>A</th>\n",
       "      <th>B</th>\n",
       "      <th>C</th>\n",
       "      <th>D</th>\n",
       "    </tr>\n",
       "  </thead>\n",
       "  <tbody>\n",
       "    <tr>\n",
       "      <th>0</th>\n",
       "      <td>0.362159</td>\n",
       "      <td>0.602144</td>\n",
       "      <td>0.490192</td>\n",
       "      <td>0.474406</td>\n",
       "    </tr>\n",
       "    <tr>\n",
       "      <th>1</th>\n",
       "      <td>0.939637</td>\n",
       "      <td>0.068236</td>\n",
       "      <td>0.658593</td>\n",
       "      <td>0.489001</td>\n",
       "    </tr>\n",
       "    <tr>\n",
       "      <th>2</th>\n",
       "      <td>0.136266</td>\n",
       "      <td>0.868668</td>\n",
       "      <td>0.192804</td>\n",
       "      <td>0.755644</td>\n",
       "    </tr>\n",
       "  </tbody>\n",
       "</table>\n",
       "</div>"
      ],
      "text/plain": [
       "          A         B         C         D\n",
       "0  0.362159  0.602144  0.490192  0.474406\n",
       "1  0.939637  0.068236  0.658593  0.489001\n",
       "2  0.136266  0.868668  0.192804  0.755644"
      ]
     },
     "execution_count": 7,
     "metadata": {},
     "output_type": "execute_result"
    }
   ],
   "source": [
    "df1r"
   ]
  },
  {
   "cell_type": "code",
   "execution_count": null,
   "metadata": {},
   "outputs": [],
   "source": []
  }
 ],
 "metadata": {
  "kernelspec": {
   "display_name": "Python 3",
   "language": "python",
   "name": "python3"
  },
  "language_info": {
   "codemirror_mode": {
    "name": "ipython",
    "version": 3
   },
   "file_extension": ".py",
   "mimetype": "text/x-python",
   "name": "python",
   "nbconvert_exporter": "python",
   "pygments_lexer": "ipython3",
   "version": "3.6.5"
  }
 },
 "nbformat": 4,
 "nbformat_minor": 2
}
