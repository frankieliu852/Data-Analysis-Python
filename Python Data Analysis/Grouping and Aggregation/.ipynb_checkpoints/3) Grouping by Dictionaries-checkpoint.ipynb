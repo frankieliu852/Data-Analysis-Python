{
 "cells": [
  {
   "cell_type": "markdown",
   "metadata": {},
   "source": [
    "## Grouping by dictionaries"
   ]
  },
  {
   "cell_type": "code",
   "execution_count": 1,
   "metadata": {},
   "outputs": [],
   "source": [
    "import pandas as pd\n",
    "import numpy as np"
   ]
  },
  {
   "cell_type": "code",
   "execution_count": 3,
   "metadata": {},
   "outputs": [
    {
     "data": {
      "text/html": [
       "<div>\n",
       "<style scoped>\n",
       "    .dataframe tbody tr th:only-of-type {\n",
       "        vertical-align: middle;\n",
       "    }\n",
       "\n",
       "    .dataframe tbody tr th {\n",
       "        vertical-align: top;\n",
       "    }\n",
       "\n",
       "    .dataframe thead th {\n",
       "        text-align: right;\n",
       "    }\n",
       "</style>\n",
       "<table border=\"1\" class=\"dataframe\">\n",
       "  <thead>\n",
       "    <tr style=\"text-align: right;\">\n",
       "      <th></th>\n",
       "      <th>a</th>\n",
       "      <th>b</th>\n",
       "      <th>c</th>\n",
       "      <th>d</th>\n",
       "      <th>e</th>\n",
       "    </tr>\n",
       "  </thead>\n",
       "  <tbody>\n",
       "    <tr>\n",
       "      <th>AA</th>\n",
       "      <td>0.347147</td>\n",
       "      <td>1.318946</td>\n",
       "      <td>-0.229964</td>\n",
       "      <td>0.367024</td>\n",
       "      <td>-2.174563</td>\n",
       "    </tr>\n",
       "    <tr>\n",
       "      <th>BB</th>\n",
       "      <td>-1.516102</td>\n",
       "      <td>-0.550956</td>\n",
       "      <td>-0.370043</td>\n",
       "      <td>-1.067570</td>\n",
       "      <td>-1.262843</td>\n",
       "    </tr>\n",
       "    <tr>\n",
       "      <th>CC</th>\n",
       "      <td>-1.054132</td>\n",
       "      <td>-0.076153</td>\n",
       "      <td>1.041806</td>\n",
       "      <td>-1.037468</td>\n",
       "      <td>1.431870</td>\n",
       "    </tr>\n",
       "    <tr>\n",
       "      <th>DD</th>\n",
       "      <td>-0.211131</td>\n",
       "      <td>-1.968420</td>\n",
       "      <td>-0.018306</td>\n",
       "      <td>-1.146421</td>\n",
       "      <td>-0.873216</td>\n",
       "    </tr>\n",
       "    <tr>\n",
       "      <th>EE</th>\n",
       "      <td>0.202001</td>\n",
       "      <td>1.073866</td>\n",
       "      <td>-0.495866</td>\n",
       "      <td>2.294634</td>\n",
       "      <td>-0.938591</td>\n",
       "    </tr>\n",
       "  </tbody>\n",
       "</table>\n",
       "</div>"
      ],
      "text/plain": [
       "           a         b         c         d         e\n",
       "AA  0.347147  1.318946 -0.229964  0.367024 -2.174563\n",
       "BB -1.516102 -0.550956 -0.370043 -1.067570 -1.262843\n",
       "CC -1.054132 -0.076153  1.041806 -1.037468  1.431870\n",
       "DD -0.211131 -1.968420 -0.018306 -1.146421 -0.873216\n",
       "EE  0.202001  1.073866 -0.495866  2.294634 -0.938591"
      ]
     },
     "execution_count": 3,
     "metadata": {},
     "output_type": "execute_result"
    }
   ],
   "source": [
    "df3 = pd.DataFrame(np.random.randn(5,5), columns=['a','b','c','d','e'], index=['AA','BB','CC','DD','EE'])\n",
    "df3"
   ]
  },
  {
   "cell_type": "markdown",
   "metadata": {},
   "source": [
    "Create a custom mapping by creating a dictionary"
   ]
  },
  {
   "cell_type": "code",
   "execution_count": 5,
   "metadata": {},
   "outputs": [],
   "source": [
    "cm = {'a': 'red', 'b': \"red\", 'c': 'blue','d':'red', 'e':'orange'}"
   ]
  },
  {
   "cell_type": "markdown",
   "metadata": {},
   "source": [
    "Pass the dictionary in the groupby function.\n",
    "- axis = 1 horizontal\n",
    "- axis = 0 vertical"
   ]
  },
  {
   "cell_type": "code",
   "execution_count": 8,
   "metadata": {},
   "outputs": [
    {
     "data": {
      "text/html": [
       "<div>\n",
       "<style scoped>\n",
       "    .dataframe tbody tr th:only-of-type {\n",
       "        vertical-align: middle;\n",
       "    }\n",
       "\n",
       "    .dataframe tbody tr th {\n",
       "        vertical-align: top;\n",
       "    }\n",
       "\n",
       "    .dataframe thead th {\n",
       "        text-align: right;\n",
       "    }\n",
       "</style>\n",
       "<table border=\"1\" class=\"dataframe\">\n",
       "  <thead>\n",
       "    <tr style=\"text-align: right;\">\n",
       "      <th></th>\n",
       "      <th>blue</th>\n",
       "      <th>orange</th>\n",
       "      <th>red</th>\n",
       "    </tr>\n",
       "  </thead>\n",
       "  <tbody>\n",
       "    <tr>\n",
       "      <th>AA</th>\n",
       "      <td>-0.229964</td>\n",
       "      <td>-2.174563</td>\n",
       "      <td>2.033116</td>\n",
       "    </tr>\n",
       "    <tr>\n",
       "      <th>BB</th>\n",
       "      <td>-0.370043</td>\n",
       "      <td>-1.262843</td>\n",
       "      <td>-3.134627</td>\n",
       "    </tr>\n",
       "    <tr>\n",
       "      <th>CC</th>\n",
       "      <td>1.041806</td>\n",
       "      <td>1.431870</td>\n",
       "      <td>-2.167753</td>\n",
       "    </tr>\n",
       "    <tr>\n",
       "      <th>DD</th>\n",
       "      <td>-0.018306</td>\n",
       "      <td>-0.873216</td>\n",
       "      <td>-3.325972</td>\n",
       "    </tr>\n",
       "    <tr>\n",
       "      <th>EE</th>\n",
       "      <td>-0.495866</td>\n",
       "      <td>-0.938591</td>\n",
       "      <td>3.570502</td>\n",
       "    </tr>\n",
       "  </tbody>\n",
       "</table>\n",
       "</div>"
      ],
      "text/plain": [
       "        blue    orange       red\n",
       "AA -0.229964 -2.174563  2.033116\n",
       "BB -0.370043 -1.262843 -3.134627\n",
       "CC  1.041806  1.431870 -2.167753\n",
       "DD -0.018306 -0.873216 -3.325972\n",
       "EE -0.495866 -0.938591  3.570502"
      ]
     },
     "execution_count": 8,
     "metadata": {},
     "output_type": "execute_result"
    }
   ],
   "source": [
    "g = df3.groupby(cm, axis=1)\n",
    "g.sum()"
   ]
  }
 ],
 "metadata": {
  "kernelspec": {
   "display_name": "Python 3",
   "language": "python",
   "name": "python3"
  },
  "language_info": {
   "codemirror_mode": {
    "name": "ipython",
    "version": 3
   },
   "file_extension": ".py",
   "mimetype": "text/x-python",
   "name": "python",
   "nbconvert_exporter": "python",
   "pygments_lexer": "ipython3",
   "version": "3.6.5"
  }
 },
 "nbformat": 4,
 "nbformat_minor": 2
}
