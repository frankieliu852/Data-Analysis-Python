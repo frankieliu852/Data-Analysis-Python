{
 "cells": [
  {
   "cell_type": "code",
   "execution_count": 1,
   "metadata": {},
   "outputs": [],
   "source": [
    "import pandas as pd\n",
    "import numpy as np\n",
    "from datetime import datetime"
   ]
  },
  {
   "cell_type": "code",
   "execution_count": 4,
   "metadata": {},
   "outputs": [
    {
     "data": {
      "text/plain": [
       "2018-01-01 10:00:00    0.017555\n",
       "2018-01-02 10:00:00    0.296906\n",
       "2018-01-03 10:00:00    0.470880\n",
       "2018-01-04 10:00:00    0.714449\n",
       "2018-01-05 10:00:00    1.184830\n",
       "dtype: float64"
      ]
     },
     "execution_count": 4,
     "metadata": {},
     "output_type": "execute_result"
    }
   ],
   "source": [
    "dates = [datetime(2018, 1, 1, 10, 0, 0),\n",
    "         datetime(2018, 1, 2, 10, 0, 0),\n",
    "         datetime(2018, 1, 3, 10, 0, 0),\n",
    "         datetime(2018, 1, 4, 10, 0, 0),\n",
    "         datetime(2018, 1, 5, 10, 0, 0)]\n",
    "\n",
    "s = pd.Series(np.random.randn(5), index=dates)\n",
    "\n",
    "s"
   ]
  },
  {
   "cell_type": "code",
   "execution_count": 13,
   "metadata": {},
   "outputs": [],
   "source": [
    "# Access the timestamp by index\n",
    "\n",
    "ts1 = s.index[0]\n",
    "ts2 = s.index[1]"
   ]
  },
  {
   "cell_type": "code",
   "execution_count": 14,
   "metadata": {},
   "outputs": [
    {
     "data": {
      "text/plain": [
       "Timestamp('2018-01-01 10:00:00')"
      ]
     },
     "execution_count": 14,
     "metadata": {},
     "output_type": "execute_result"
    }
   ],
   "source": [
    "ts1"
   ]
  },
  {
   "cell_type": "code",
   "execution_count": 15,
   "metadata": {},
   "outputs": [
    {
     "data": {
      "text/plain": [
       "Timestamp('2018-01-02 10:00:00')"
      ]
     },
     "execution_count": 15,
     "metadata": {},
     "output_type": "execute_result"
    }
   ],
   "source": [
    "ts2"
   ]
  },
  {
   "cell_type": "code",
   "execution_count": 19,
   "metadata": {},
   "outputs": [
    {
     "data": {
      "text/plain": [
       "Timedelta('1 days 00:00:00')"
      ]
     },
     "execution_count": 19,
     "metadata": {},
     "output_type": "execute_result"
    }
   ],
   "source": [
    "## Calculate time delta\n",
    "ts2-ts1"
   ]
  },
  {
   "cell_type": "code",
   "execution_count": 36,
   "metadata": {},
   "outputs": [],
   "source": [
    "# create a timedelta\n",
    "\n",
    "d2 = pd.Timedelta(\"2 days 12 hour\")"
   ]
  },
  {
   "cell_type": "code",
   "execution_count": 33,
   "metadata": {},
   "outputs": [
    {
     "data": {
      "text/plain": [
       "Timestamp('2018-01-03 22:00:00')"
      ]
     },
     "execution_count": 33,
     "metadata": {},
     "output_type": "execute_result"
    }
   ],
   "source": [
    "ts1 + d2"
   ]
  },
  {
   "cell_type": "code",
   "execution_count": 37,
   "metadata": {},
   "outputs": [
    {
     "data": {
      "text/plain": [
       "216000000000000"
      ]
     },
     "execution_count": 37,
     "metadata": {},
     "output_type": "execute_result"
    }
   ],
   "source": [
    "## Timedelta is in nano-seconds (1 second = 10^9 nano-seconds)\n",
    "d2.value"
   ]
  },
  {
   "cell_type": "markdown",
   "metadata": {},
   "source": [
    "## Indexing"
   ]
  },
  {
   "cell_type": "code",
   "execution_count": 39,
   "metadata": {},
   "outputs": [
    {
     "data": {
      "text/plain": [
       "2018-01-01 10:00:00    0.472417\n",
       "2018-01-02 10:00:00    2.419081\n",
       "2018-01-03 10:00:00    0.649052\n",
       "2018-01-04 10:00:00   -0.362409\n",
       "2018-01-05 10:00:00    0.303793\n",
       "2018-02-01 14:00:00   -0.071814\n",
       "2018-02-02 15:00:00    0.599288\n",
       "dtype: float64"
      ]
     },
     "execution_count": 39,
     "metadata": {},
     "output_type": "execute_result"
    }
   ],
   "source": [
    "dates = [datetime(2018, 1, 1, 10, 0, 0),\n",
    "         datetime(2018, 1, 2, 10, 0, 0),\n",
    "         datetime(2018, 1, 3, 10, 0, 0),\n",
    "         datetime(2018, 1, 4, 10, 0, 0),\n",
    "         datetime(2018, 1, 5, 10, 0, 0),\n",
    "         datetime(2018, 2, 1, 14, 0, 0),\n",
    "         datetime(2018, 2, 2, 15, 0, 0)]\n",
    "\n",
    "s = pd.Series(np.random.randn(7), index=dates)\n",
    "s"
   ]
  },
  {
   "cell_type": "code",
   "execution_count": 45,
   "metadata": {},
   "outputs": [
    {
     "data": {
      "text/plain": [
       "2018-01-01 10:00:00    0.472417\n",
       "2018-01-02 10:00:00    2.419081\n",
       "2018-01-03 10:00:00    0.649052\n",
       "dtype: float64"
      ]
     },
     "execution_count": 45,
     "metadata": {},
     "output_type": "execute_result"
    }
   ],
   "source": [
    "# Display a range of specific date\n",
    "\n",
    "s['2018-1-1' : '2018-1-3']"
   ]
  },
  {
   "cell_type": "code",
   "execution_count": 47,
   "metadata": {},
   "outputs": [
    {
     "data": {
      "text/plain": [
       "2018-01-01 10:00:00    0.472417\n",
       "2018-01-02 10:00:00    2.419081\n",
       "2018-01-03 10:00:00    0.649052\n",
       "2018-01-04 10:00:00   -0.362409\n",
       "2018-01-05 10:00:00    0.303793\n",
       "dtype: float64"
      ]
     },
     "execution_count": 47,
     "metadata": {},
     "output_type": "execute_result"
    }
   ],
   "source": [
    "# Display the entire month\n",
    "s['2018-1']"
   ]
  },
  {
   "cell_type": "code",
   "execution_count": 49,
   "metadata": {},
   "outputs": [
    {
     "data": {
      "text/plain": [
       "2018-01-01 10:00:00    0.472417\n",
       "2018-01-02 10:00:00    2.419081\n",
       "dtype: float64"
      ]
     },
     "execution_count": 49,
     "metadata": {},
     "output_type": "execute_result"
    }
   ],
   "source": [
    "# using datetime object\n",
    "s[datetime(2018,1,1) : datetime(2018,1,3)]"
   ]
  },
  {
   "cell_type": "markdown",
   "metadata": {},
   "source": [
    "### Generating a date range"
   ]
  },
  {
   "cell_type": "code",
   "execution_count": 55,
   "metadata": {},
   "outputs": [
    {
     "data": {
      "text/plain": [
       "DatetimeIndex(['2018-01-01', '2018-01-02', '2018-01-03', '2018-01-04',\n",
       "               '2018-01-05', '2018-01-06', '2018-01-07', '2018-01-08',\n",
       "               '2018-01-09', '2018-01-10', '2018-01-11', '2018-01-12',\n",
       "               '2018-01-13', '2018-01-14', '2018-01-15'],\n",
       "              dtype='datetime64[ns]', freq='D')"
      ]
     },
     "execution_count": 55,
     "metadata": {},
     "output_type": "execute_result"
    }
   ],
   "source": [
    "# freq determines the frequence\n",
    "## 'D'=Day   'H'=Hour   'QS'=Quarter\n",
    "### See documentations for frequence\n",
    "\n",
    "pd.date_range(\"2018-1-1\", periods=15, freq='D')"
   ]
  },
  {
   "cell_type": "code",
   "execution_count": 57,
   "metadata": {},
   "outputs": [
    {
     "data": {
      "text/plain": [
       "DatetimeIndex(['2018-01-01 00:00:00', '2018-01-01 01:00:00',\n",
       "               '2018-01-01 02:00:00', '2018-01-01 03:00:00',\n",
       "               '2018-01-01 04:00:00', '2018-01-01 05:00:00',\n",
       "               '2018-01-01 06:00:00', '2018-01-01 07:00:00',\n",
       "               '2018-01-01 08:00:00', '2018-01-01 09:00:00',\n",
       "               '2018-01-01 10:00:00', '2018-01-01 11:00:00',\n",
       "               '2018-01-01 12:00:00', '2018-01-01 13:00:00',\n",
       "               '2018-01-01 14:00:00'],\n",
       "              dtype='datetime64[ns]', freq='H')"
      ]
     },
     "execution_count": 57,
     "metadata": {},
     "output_type": "execute_result"
    }
   ],
   "source": [
    "pd.date_range(\"2018-1-1\", periods=15, freq='H')"
   ]
  },
  {
   "cell_type": "code",
   "execution_count": 61,
   "metadata": {},
   "outputs": [
    {
     "data": {
      "text/plain": [
       "DatetimeIndex(['2018-01-01', '2018-04-01', '2018-07-01', '2018-10-01',\n",
       "               '2019-01-01'],\n",
       "              dtype='datetime64[ns]', freq='QS-JAN')"
      ]
     },
     "execution_count": 61,
     "metadata": {},
     "output_type": "execute_result"
    }
   ],
   "source": [
    "pd.date_range(\"2018-1-1\", periods=5, freq='QS')"
   ]
  },
  {
   "cell_type": "markdown",
   "metadata": {},
   "source": [
    "### Duplicates in timestamp indices"
   ]
  },
  {
   "cell_type": "code",
   "execution_count": 69,
   "metadata": {},
   "outputs": [
    {
     "data": {
      "text/plain": [
       "DatetimeIndex(['2018-02-01', '2018-02-02', '2018-02-02', '2018-02-03'], dtype='datetime64[ns]', freq=None)"
      ]
     },
     "execution_count": 69,
     "metadata": {},
     "output_type": "execute_result"
    }
   ],
   "source": [
    "d = pd.DatetimeIndex(['2018-2-1','2018-2-2','2018-2-2','2018-2-3'])\n",
    "d"
   ]
  },
  {
   "cell_type": "code",
   "execution_count": 76,
   "metadata": {},
   "outputs": [
    {
     "data": {
      "text/plain": [
       "2018-02-01    0\n",
       "2018-02-02    1\n",
       "2018-02-02    2\n",
       "2018-02-03    3\n",
       "dtype: int32"
      ]
     },
     "execution_count": 76,
     "metadata": {},
     "output_type": "execute_result"
    }
   ],
   "source": [
    "s = pd.Series(np.arange(4), index=d)\n",
    "s"
   ]
  },
  {
   "cell_type": "code",
   "execution_count": 77,
   "metadata": {},
   "outputs": [
    {
     "data": {
      "text/plain": [
       "False"
      ]
     },
     "execution_count": 77,
     "metadata": {},
     "output_type": "execute_result"
    }
   ],
   "source": [
    "s.index.is_unique"
   ]
  },
  {
   "cell_type": "markdown",
   "metadata": {},
   "source": [
    "## Converting to fixed-frequency series\n",
    "## Resample"
   ]
  },
  {
   "cell_type": "code",
   "execution_count": 32,
   "metadata": {},
   "outputs": [
    {
     "data": {
      "text/plain": [
       "2018-01-01    1\n",
       "2018-01-02    2\n",
       "2018-01-05    5\n",
       "2018-01-08    8\n",
       "dtype: int64"
      ]
     },
     "execution_count": 32,
     "metadata": {},
     "output_type": "execute_result"
    }
   ],
   "source": [
    "d = pd.DatetimeIndex(['2018-1-1','2018-1-2','2018-1-5','2018-1-8'])\n",
    "s = pd.Series([1,2,5,8], index=d)\n",
    "s"
   ]
  },
  {
   "cell_type": "markdown",
   "metadata": {},
   "source": [
    "#### Resample to daily data\n",
    "#### resample('frequency') "
   ]
  },
  {
   "cell_type": "code",
   "execution_count": 33,
   "metadata": {},
   "outputs": [],
   "source": [
    "resample = s.resample('D')"
   ]
  },
  {
   "cell_type": "code",
   "execution_count": 34,
   "metadata": {},
   "outputs": [
    {
     "data": {
      "text/plain": [
       "2018-01-01    1.0\n",
       "2018-01-02    2.0\n",
       "2018-01-03    3.0\n",
       "2018-01-04    4.0\n",
       "2018-01-05    5.0\n",
       "2018-01-06    6.0\n",
       "2018-01-07    7.0\n",
       "2018-01-08    8.0\n",
       "Freq: D, dtype: float64"
      ]
     },
     "execution_count": 34,
     "metadata": {},
     "output_type": "execute_result"
    }
   ],
   "source": [
    "resample.interpolate()"
   ]
  },
  {
   "cell_type": "code",
   "execution_count": 21,
   "metadata": {},
   "outputs": [
    {
     "data": {
      "text/plain": [
       "2018-01-01    1\n",
       "2018-01-02    2\n",
       "2018-01-03    2\n",
       "2018-01-04    2\n",
       "2018-01-05    5\n",
       "2018-01-06    5\n",
       "2018-01-07    5\n",
       "2018-01-08    8\n",
       "Freq: D, dtype: int64"
      ]
     },
     "execution_count": 21,
     "metadata": {},
     "output_type": "execute_result"
    }
   ],
   "source": [
    "resample.ffill()"
   ]
  },
  {
   "cell_type": "markdown",
   "metadata": {},
   "source": [
    "### Shifting data"
   ]
  },
  {
   "cell_type": "code",
   "execution_count": 36,
   "metadata": {},
   "outputs": [
    {
     "data": {
      "text/plain": [
       "2018-01-01    0.591526\n",
       "2018-01-02    0.283947\n",
       "2018-01-03    0.163072\n",
       "2018-01-04    0.978407\n",
       "2018-01-05    0.008276\n",
       "2018-01-06    0.329193\n",
       "2018-01-07    0.884075\n",
       "2018-01-08    0.655528\n",
       "Freq: D, dtype: float64"
      ]
     },
     "execution_count": 36,
     "metadata": {},
     "output_type": "execute_result"
    }
   ],
   "source": [
    "s = pd.Series(np.random.rand(8), index=pd.date_range('2018-1-1',periods=8, freq='D'))\n",
    "s"
   ]
  },
  {
   "cell_type": "code",
   "execution_count": 40,
   "metadata": {},
   "outputs": [
    {
     "data": {
      "text/plain": [
       "2018-01-01         NaN\n",
       "2018-01-02         NaN\n",
       "2018-01-03    0.591526\n",
       "2018-01-04    0.283947\n",
       "2018-01-05    0.163072\n",
       "2018-01-06    0.978407\n",
       "2018-01-07    0.008276\n",
       "2018-01-08    0.329193\n",
       "Freq: D, dtype: float64"
      ]
     },
     "execution_count": 40,
     "metadata": {},
     "output_type": "execute_result"
    }
   ],
   "source": [
    "s.shift(2)   # Shift data down"
   ]
  },
  {
   "cell_type": "code",
   "execution_count": 42,
   "metadata": {},
   "outputs": [
    {
     "data": {
      "text/plain": [
       "2018-01-01    0.163072\n",
       "2018-01-02    0.978407\n",
       "2018-01-03    0.008276\n",
       "2018-01-04    0.329193\n",
       "2018-01-05    0.884075\n",
       "2018-01-06    0.655528\n",
       "2018-01-07         NaN\n",
       "2018-01-08         NaN\n",
       "Freq: D, dtype: float64"
      ]
     },
     "execution_count": 42,
     "metadata": {},
     "output_type": "execute_result"
    }
   ],
   "source": [
    "s.shift(-2)  # Shift data upward"
   ]
  },
  {
   "cell_type": "markdown",
   "metadata": {},
   "source": [
    "### Time zone\n",
    "* UTC: coordinated universal time\n",
    "* Time zone is expressed as an offset to the UTC\n",
    "    * e.g. California is 7 hours (PDT) or 8 hours (daylight saving) UTC"
   ]
  },
  {
   "cell_type": "markdown",
   "metadata": {},
   "source": [
    "### Time zone names (import pytz)"
   ]
  },
  {
   "cell_type": "code",
   "execution_count": 44,
   "metadata": {},
   "outputs": [],
   "source": [
    "import pytz"
   ]
  },
  {
   "cell_type": "code",
   "execution_count": 55,
   "metadata": {},
   "outputs": [
    {
     "data": {
      "text/plain": [
       "['US/Eastern', 'US/Hawaii', 'US/Mountain', 'US/Pacific', 'UTC']"
      ]
     },
     "execution_count": 55,
     "metadata": {},
     "output_type": "execute_result"
    }
   ],
   "source": [
    "pytz.common_timezones[-5:]"
   ]
  },
  {
   "cell_type": "code",
   "execution_count": 59,
   "metadata": {},
   "outputs": [
    {
     "data": {
      "text/plain": [
       "<DstTzInfo 'US/Pacific' LMT-1 day, 16:07:00 STD>"
      ]
     },
     "execution_count": 59,
     "metadata": {},
     "output_type": "execute_result"
    }
   ],
   "source": [
    "# Getting the time zone object\n",
    "tz = pytz.timezone('US/Pacific')\n",
    "tz"
   ]
  },
  {
   "cell_type": "markdown",
   "metadata": {},
   "source": [
    "##### By default, the time zone is NONE in Pandas"
   ]
  },
  {
   "cell_type": "code",
   "execution_count": 71,
   "metadata": {},
   "outputs": [
    {
     "data": {
      "text/plain": [
       "2018-01-01 10:00:00   -0.670580\n",
       "2018-01-02 10:00:00    0.572532\n",
       "2018-01-03 10:00:00   -0.726298\n",
       "2018-01-04 10:00:00    2.425179\n",
       "2018-01-05 10:00:00    0.865788\n",
       "2018-01-06 10:00:00   -0.069655\n",
       "Freq: D, dtype: float64"
      ]
     },
     "execution_count": 71,
     "metadata": {},
     "output_type": "execute_result"
    }
   ],
   "source": [
    "s = pd.Series(np.random.randn(6),index=pd.date_range('2018-1-1 10:00', periods=6, freq='D'))\n",
    "s"
   ]
  },
  {
   "cell_type": "code",
   "execution_count": 74,
   "metadata": {},
   "outputs": [
    {
     "name": "stdout",
     "output_type": "stream",
     "text": [
      "None\n"
     ]
    }
   ],
   "source": [
    "print(s.index.tz)"
   ]
  },
  {
   "cell_type": "code",
   "execution_count": 83,
   "metadata": {},
   "outputs": [
    {
     "data": {
      "text/plain": [
       "2018-01-01 10:00:00+00:00   -1.138929\n",
       "2018-01-02 10:00:00+00:00   -1.901670\n",
       "2018-01-03 10:00:00+00:00   -1.563052\n",
       "2018-01-04 10:00:00+00:00   -0.020952\n",
       "2018-01-05 10:00:00+00:00    0.589968\n",
       "2018-01-06 10:00:00+00:00    0.026788\n",
       "Freq: D, dtype: float64"
      ]
     },
     "execution_count": 83,
     "metadata": {},
     "output_type": "execute_result"
    }
   ],
   "source": [
    "# Using time zone\n",
    "\n",
    "s_utc = pd.Series(np.random.randn(6),index=pd.date_range('2018-1-1 10:00', periods=6, freq='D', tz='UTC'))\n",
    "s_utc"
   ]
  },
  {
   "cell_type": "code",
   "execution_count": 85,
   "metadata": {},
   "outputs": [
    {
     "data": {
      "text/plain": [
       "<UTC>"
      ]
     },
     "execution_count": 85,
     "metadata": {},
     "output_type": "execute_result"
    }
   ],
   "source": [
    "s_utc.index.tz"
   ]
  },
  {
   "cell_type": "markdown",
   "metadata": {},
   "source": [
    "## Converting to another time zone\n",
    "* using tz_convert()\n",
    "* daylight saving is automatically applied\n",
    "You can only convert to another timezone if it has been localized."
   ]
  },
  {
   "cell_type": "code",
   "execution_count": 87,
   "metadata": {},
   "outputs": [
    {
     "data": {
      "text/plain": [
       "2018-01-01 02:00:00-08:00   -1.138929\n",
       "2018-01-02 02:00:00-08:00   -1.901670\n",
       "2018-01-03 02:00:00-08:00   -1.563052\n",
       "2018-01-04 02:00:00-08:00   -0.020952\n",
       "2018-01-05 02:00:00-08:00    0.589968\n",
       "2018-01-06 02:00:00-08:00    0.026788\n",
       "Freq: D, dtype: float64"
      ]
     },
     "execution_count": 87,
     "metadata": {},
     "output_type": "execute_result"
    }
   ],
   "source": [
    "s_utc.tz_convert('US/Pacific')"
   ]
  },
  {
   "cell_type": "markdown",
   "metadata": {},
   "source": [
    "## Localize time zone\n",
    "Assign a timezone after a series has been created\n",
    "* tz_localize()"
   ]
  },
  {
   "cell_type": "code",
   "execution_count": 90,
   "metadata": {},
   "outputs": [
    {
     "data": {
      "text/plain": [
       "2018-01-01 10:00:00   -0.428118\n",
       "2018-01-02 10:00:00   -1.660617\n",
       "2018-01-03 10:00:00   -1.917001\n",
       "2018-01-04 10:00:00   -0.703800\n",
       "2018-01-05 10:00:00   -1.809462\n",
       "2018-01-06 10:00:00    1.926103\n",
       "Freq: D, dtype: float64"
      ]
     },
     "execution_count": 90,
     "metadata": {},
     "output_type": "execute_result"
    }
   ],
   "source": [
    "# Timestamps without a time zone\n",
    "s = pd.Series(np.random.randn(6), index=pd.date_range('2018-1-1 10:00', periods=6, freq=\"D\"))\n",
    "s"
   ]
  },
  {
   "cell_type": "code",
   "execution_count": 99,
   "metadata": {},
   "outputs": [
    {
     "data": {
      "text/plain": [
       "2018-01-01 10:00:00-08:00   -0.428118\n",
       "2018-01-02 10:00:00-08:00   -1.660617\n",
       "2018-01-03 10:00:00-08:00   -1.917001\n",
       "2018-01-04 10:00:00-08:00   -0.703800\n",
       "2018-01-05 10:00:00-08:00   -1.809462\n",
       "2018-01-06 10:00:00-08:00    1.926103\n",
       "Freq: D, dtype: float64"
      ]
     },
     "execution_count": 99,
     "metadata": {},
     "output_type": "execute_result"
    }
   ],
   "source": [
    "# assign a timezone to the series\n",
    "s2 = s.tz_localize('US/Pacific')\n",
    "s2"
   ]
  },
  {
   "cell_type": "markdown",
   "metadata": {},
   "source": [
    "## Time-zone aware operation\n",
    "\n",
    "pandas can not compute timestamps if they have different timezone"
   ]
  },
  {
   "cell_type": "code",
   "execution_count": 103,
   "metadata": {},
   "outputs": [],
   "source": [
    "t1 = pd.Timestamp('2018-01-01 12:00:00', tz='US/Pacific')\n",
    "t2 = pd.Timestamp('2018-01-01 12:00:00', tz='UTC')"
   ]
  },
  {
   "cell_type": "code",
   "execution_count": 105,
   "metadata": {},
   "outputs": [
    {
     "data": {
      "text/plain": [
       "Timedelta('0 days 08:00:00')"
      ]
     },
     "execution_count": 105,
     "metadata": {},
     "output_type": "execute_result"
    }
   ],
   "source": [
    "t1.tz_convert('UTC')-t2"
   ]
  }
 ],
 "metadata": {
  "kernelspec": {
   "display_name": "Python 3",
   "language": "python",
   "name": "python3"
  },
  "language_info": {
   "codemirror_mode": {
    "name": "ipython",
    "version": 3
   },
   "file_extension": ".py",
   "mimetype": "text/x-python",
   "name": "python",
   "nbconvert_exporter": "python",
   "pygments_lexer": "ipython3",
   "version": "3.6.5"
  }
 },
 "nbformat": 4,
 "nbformat_minor": 2
}
