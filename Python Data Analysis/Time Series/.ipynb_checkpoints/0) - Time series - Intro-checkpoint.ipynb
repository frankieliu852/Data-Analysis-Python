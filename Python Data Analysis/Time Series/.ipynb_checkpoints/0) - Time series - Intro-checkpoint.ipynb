{
 "cells": [
  {
   "cell_type": "markdown",
   "metadata": {},
   "source": [
    "time delta is the difference between time stamps\n",
    "\n",
    "Python: datetime, time, calendar\n",
    "\n",
    "It is first recorded in CSV file \"string\", which need to be converted to Python datetime Object in order to use datetime objects' functions. \"\"Striptime\"\" or \"\"dateutil.parser\"\" function to convert.\n",
    "\n",
    "\n",
    "Pandas: Optimize for array-style time stamps"
   ]
  }
 ],
 "metadata": {
  "kernelspec": {
   "display_name": "Python 3",
   "language": "python",
   "name": "python3"
  },
  "language_info": {
   "codemirror_mode": {
    "name": "ipython",
    "version": 3
   },
   "file_extension": ".py",
   "mimetype": "text/x-python",
   "name": "python",
   "nbconvert_exporter": "python",
   "pygments_lexer": "ipython3",
   "version": "3.6.5"
  }
 },
 "nbformat": 4,
 "nbformat_minor": 2
}
