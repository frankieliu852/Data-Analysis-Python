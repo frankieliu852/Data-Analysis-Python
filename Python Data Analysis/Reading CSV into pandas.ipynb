{
 "cells": [
  {
   "cell_type": "markdown",
   "metadata": {},
   "source": [
    "# Reading zip csv"
   ]
  },
  {
   "cell_type": "markdown",
   "metadata": {},
   "source": [
    "import pandas as pd\n",
    "tf = pd.read_csv('file name', compression='zip', chunksize=10000)\n",
    "df = pd.concat(tf)\n",
    "\n",
    "#pandas uncompress on the fly, and read it in by chucksize\n",
    "\n",
    "df.header() <---- this function display the first few rows of the dataframe\n",
    "\n",
    "tf2 = pd.read_csv('file name', compression='zip',chunksize=10000,index_col=False)\n",
    "####### index_col = false means the first column is not the index column.\n"
   ]
  },
  {
   "cell_type": "markdown",
   "metadata": {},
   "source": [
    "# read in the selected columns\n",
    "fec_cols = ['first column', 'second column', 'whatever column']\n",
    "\n",
    "tf3 = pd.read_csv('file name', compression='zip', chunksize=10000, index_col=False, usecols=fec_cols)\n",
    "df3 = pd.concat(tf3, ignore_index=True)"
   ]
  }
 ],
 "metadata": {
  "kernelspec": {
   "display_name": "Python 3",
   "language": "python",
   "name": "python3"
  },
  "language_info": {
   "codemirror_mode": {
    "name": "ipython",
    "version": 3
   },
   "file_extension": ".py",
   "mimetype": "text/x-python",
   "name": "python",
   "nbconvert_exporter": "python",
   "pygments_lexer": "ipython3",
   "version": "3.6.5"
  }
 },
 "nbformat": 4,
 "nbformat_minor": 2
}
